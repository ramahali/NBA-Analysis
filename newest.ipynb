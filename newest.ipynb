{
 "cells": [
  {
   "cell_type": "code",
   "execution_count": 1,
   "id": "ad056b4c",
   "metadata": {
    "_cell_guid": "b1076dfc-b9ad-4769-8c92-a6c4dae69d19",
    "_uuid": "8f2839f25d086af736a60e9eeb907d3b93b6e0e5",
    "execution": {
     "iopub.execute_input": "2024-02-22T00:50:41.768636Z",
     "iopub.status.busy": "2024-02-22T00:50:41.767959Z",
     "iopub.status.idle": "2024-02-22T00:50:42.760534Z",
     "shell.execute_reply": "2024-02-22T00:50:42.759327Z"
    },
    "papermill": {
     "duration": 1.003555,
     "end_time": "2024-02-22T00:50:42.763497",
     "exception": false,
     "start_time": "2024-02-22T00:50:41.759942",
     "status": "completed"
    },
    "tags": []
   },
   "outputs": [
    {
     "name": "stdout",
     "output_type": "stream",
     "text": [
      "/kaggle/input/nba-games/players.csv\n",
      "/kaggle/input/nba-games/teams.csv\n",
      "/kaggle/input/nba-games/ranking.csv\n",
      "/kaggle/input/nba-games/games_details.csv\n",
      "/kaggle/input/nba-games/games.csv\n"
     ]
    }
   ],
   "source": [
    "# This Python 3 environment comes with many helpful analytics libraries installed\n",
    "# It is defined by the kaggle/python Docker image: https://github.com/kaggle/docker-python\n",
    "# For example, here's several helpful packages to load\n",
    "\n",
    "import numpy as np # linear algebra\n",
    "import pandas as pd # data processing, CSV file I/O (e.g. pd.read_csv)\n",
    "\n",
    "# Input data files are available in the read-only \"../input/\" directory\n",
    "# For example, running this (by clicking run or pressing Shift+Enter) will list all files under the input directory\n",
    "\n",
    "import os\n",
    "for dirname, _, filenames in os.walk('/kaggle/input'):\n",
    "    for filename in filenames:\n",
    "        print(os.path.join(dirname, filename))\n",
    "\n",
    "# You can write up to 20GB to the current directory (/kaggle/working/) that gets preserved as output when you create a version using \"Save & Run All\" \n",
    "# You can also write temporary files to /kaggle/temp/, but they won't be saved outside of the current session"
   ]
  },
  {
   "cell_type": "markdown",
   "id": "0e38b9bf",
   "metadata": {
    "papermill": {
     "duration": 0.00488,
     "end_time": "2024-02-22T00:50:42.773893",
     "exception": false,
     "start_time": "2024-02-22T00:50:42.769013",
     "status": "completed"
    },
    "tags": []
   },
   "source": [
    "# NBA Predictions\n",
    "\n",
    "[![Kaggle](https://kaggle.com/static/images/open-in-kaggle.svg)](https://kaggle.com/kernels/welcome?src=https://github.com/rjbeer/NBA-Analysis/blob/main/notebook09ea0e1819.ipynb)"
   ]
  },
  {
   "cell_type": "markdown",
   "id": "260a7293",
   "metadata": {
    "papermill": {
     "duration": 0.00477,
     "end_time": "2024-02-22T00:50:42.783777",
     "exception": false,
     "start_time": "2024-02-22T00:50:42.779007",
     "status": "completed"
    },
    "tags": []
   },
   "source": [
    "## Initial analysis of relevant data\n",
    "\n",
    "Before we begin to code our ML model we must first look into what data is not only relevant to what it is we are trying to accomplish but if the data is related to the desired outcome. In this particular case we can define our desired outcome as;\n",
    "\n",
    "    -Predict the outcome of NBA games\n",
    "\n",
    "Though vague it is important to have an understanding of the ultimate goal. With that in mind we must determine what is considered relevant to being able to make these predictions. For the purposes of this analysis we will look at what data appears to relate to winning a game to have a more concrete idea of what features to include in the model.\n",
    "\n",
    "First we will load the data into a pandas dataframes and take a look at the data, more specifically we will first look into the games.csv for our initial dive into the data. This is because the games.csv has final game data and we can begin with simple probing into the data itself. Later we will look into as much of the data as we can."
   ]
  },
  {
   "cell_type": "code",
   "execution_count": 2,
   "id": "95237eea",
   "metadata": {
    "execution": {
     "iopub.execute_input": "2024-02-22T00:50:42.797221Z",
     "iopub.status.busy": "2024-02-22T00:50:42.796646Z",
     "iopub.status.idle": "2024-02-22T00:50:48.609045Z",
     "shell.execute_reply": "2024-02-22T00:50:48.607869Z"
    },
    "papermill": {
     "duration": 5.821894,
     "end_time": "2024-02-22T00:50:48.611889",
     "exception": false,
     "start_time": "2024-02-22T00:50:42.789995",
     "status": "completed"
    },
    "tags": []
   },
   "outputs": [
    {
     "name": "stderr",
     "output_type": "stream",
     "text": [
      "/tmp/ipykernel_18/3956019479.py:1: DtypeWarning: Columns (6) have mixed types. Specify dtype option on import or set low_memory=False.\n",
      "  gameData = pd.read_csv(\"/kaggle/input/nba-games/games_details.csv\")\n"
     ]
    },
    {
     "data": {
      "text/html": [
       "<div>\n",
       "<style scoped>\n",
       "    .dataframe tbody tr th:only-of-type {\n",
       "        vertical-align: middle;\n",
       "    }\n",
       "\n",
       "    .dataframe tbody tr th {\n",
       "        vertical-align: top;\n",
       "    }\n",
       "\n",
       "    .dataframe thead th {\n",
       "        text-align: right;\n",
       "    }\n",
       "</style>\n",
       "<table border=\"1\" class=\"dataframe\">\n",
       "  <thead>\n",
       "    <tr style=\"text-align: right;\">\n",
       "      <th></th>\n",
       "      <th>GAME_DATE_EST</th>\n",
       "      <th>GAME_ID</th>\n",
       "      <th>GAME_STATUS_TEXT</th>\n",
       "      <th>HOME_TEAM_ID</th>\n",
       "      <th>VISITOR_TEAM_ID</th>\n",
       "      <th>SEASON</th>\n",
       "      <th>TEAM_ID_home</th>\n",
       "      <th>PTS_home</th>\n",
       "      <th>FG_PCT_home</th>\n",
       "      <th>FT_PCT_home</th>\n",
       "      <th>...</th>\n",
       "      <th>AST_home</th>\n",
       "      <th>REB_home</th>\n",
       "      <th>TEAM_ID_away</th>\n",
       "      <th>PTS_away</th>\n",
       "      <th>FG_PCT_away</th>\n",
       "      <th>FT_PCT_away</th>\n",
       "      <th>FG3_PCT_away</th>\n",
       "      <th>AST_away</th>\n",
       "      <th>REB_away</th>\n",
       "      <th>HOME_TEAM_WINS</th>\n",
       "    </tr>\n",
       "  </thead>\n",
       "  <tbody>\n",
       "    <tr>\n",
       "      <th>0</th>\n",
       "      <td>2022-12-22</td>\n",
       "      <td>22200477</td>\n",
       "      <td>Final</td>\n",
       "      <td>1610612740</td>\n",
       "      <td>1610612759</td>\n",
       "      <td>2022</td>\n",
       "      <td>1610612740</td>\n",
       "      <td>126.0</td>\n",
       "      <td>0.484</td>\n",
       "      <td>0.926</td>\n",
       "      <td>...</td>\n",
       "      <td>25.0</td>\n",
       "      <td>46.0</td>\n",
       "      <td>1610612759</td>\n",
       "      <td>117.0</td>\n",
       "      <td>0.478</td>\n",
       "      <td>0.815</td>\n",
       "      <td>0.321</td>\n",
       "      <td>23.0</td>\n",
       "      <td>44.0</td>\n",
       "      <td>1</td>\n",
       "    </tr>\n",
       "    <tr>\n",
       "      <th>1</th>\n",
       "      <td>2022-12-22</td>\n",
       "      <td>22200478</td>\n",
       "      <td>Final</td>\n",
       "      <td>1610612762</td>\n",
       "      <td>1610612764</td>\n",
       "      <td>2022</td>\n",
       "      <td>1610612762</td>\n",
       "      <td>120.0</td>\n",
       "      <td>0.488</td>\n",
       "      <td>0.952</td>\n",
       "      <td>...</td>\n",
       "      <td>16.0</td>\n",
       "      <td>40.0</td>\n",
       "      <td>1610612764</td>\n",
       "      <td>112.0</td>\n",
       "      <td>0.561</td>\n",
       "      <td>0.765</td>\n",
       "      <td>0.333</td>\n",
       "      <td>20.0</td>\n",
       "      <td>37.0</td>\n",
       "      <td>1</td>\n",
       "    </tr>\n",
       "    <tr>\n",
       "      <th>2</th>\n",
       "      <td>2022-12-21</td>\n",
       "      <td>22200466</td>\n",
       "      <td>Final</td>\n",
       "      <td>1610612739</td>\n",
       "      <td>1610612749</td>\n",
       "      <td>2022</td>\n",
       "      <td>1610612739</td>\n",
       "      <td>114.0</td>\n",
       "      <td>0.482</td>\n",
       "      <td>0.786</td>\n",
       "      <td>...</td>\n",
       "      <td>22.0</td>\n",
       "      <td>37.0</td>\n",
       "      <td>1610612749</td>\n",
       "      <td>106.0</td>\n",
       "      <td>0.470</td>\n",
       "      <td>0.682</td>\n",
       "      <td>0.433</td>\n",
       "      <td>20.0</td>\n",
       "      <td>46.0</td>\n",
       "      <td>1</td>\n",
       "    </tr>\n",
       "    <tr>\n",
       "      <th>3</th>\n",
       "      <td>2022-12-21</td>\n",
       "      <td>22200467</td>\n",
       "      <td>Final</td>\n",
       "      <td>1610612755</td>\n",
       "      <td>1610612765</td>\n",
       "      <td>2022</td>\n",
       "      <td>1610612755</td>\n",
       "      <td>113.0</td>\n",
       "      <td>0.441</td>\n",
       "      <td>0.909</td>\n",
       "      <td>...</td>\n",
       "      <td>27.0</td>\n",
       "      <td>49.0</td>\n",
       "      <td>1610612765</td>\n",
       "      <td>93.0</td>\n",
       "      <td>0.392</td>\n",
       "      <td>0.735</td>\n",
       "      <td>0.261</td>\n",
       "      <td>15.0</td>\n",
       "      <td>46.0</td>\n",
       "      <td>1</td>\n",
       "    </tr>\n",
       "    <tr>\n",
       "      <th>4</th>\n",
       "      <td>2022-12-21</td>\n",
       "      <td>22200468</td>\n",
       "      <td>Final</td>\n",
       "      <td>1610612737</td>\n",
       "      <td>1610612741</td>\n",
       "      <td>2022</td>\n",
       "      <td>1610612737</td>\n",
       "      <td>108.0</td>\n",
       "      <td>0.429</td>\n",
       "      <td>1.000</td>\n",
       "      <td>...</td>\n",
       "      <td>22.0</td>\n",
       "      <td>47.0</td>\n",
       "      <td>1610612741</td>\n",
       "      <td>110.0</td>\n",
       "      <td>0.500</td>\n",
       "      <td>0.773</td>\n",
       "      <td>0.292</td>\n",
       "      <td>20.0</td>\n",
       "      <td>47.0</td>\n",
       "      <td>0</td>\n",
       "    </tr>\n",
       "  </tbody>\n",
       "</table>\n",
       "<p>5 rows × 21 columns</p>\n",
       "</div>"
      ],
      "text/plain": [
       "  GAME_DATE_EST   GAME_ID GAME_STATUS_TEXT  HOME_TEAM_ID  VISITOR_TEAM_ID  \\\n",
       "0    2022-12-22  22200477            Final    1610612740       1610612759   \n",
       "1    2022-12-22  22200478            Final    1610612762       1610612764   \n",
       "2    2022-12-21  22200466            Final    1610612739       1610612749   \n",
       "3    2022-12-21  22200467            Final    1610612755       1610612765   \n",
       "4    2022-12-21  22200468            Final    1610612737       1610612741   \n",
       "\n",
       "   SEASON  TEAM_ID_home  PTS_home  FG_PCT_home  FT_PCT_home  ...  AST_home  \\\n",
       "0    2022    1610612740     126.0        0.484        0.926  ...      25.0   \n",
       "1    2022    1610612762     120.0        0.488        0.952  ...      16.0   \n",
       "2    2022    1610612739     114.0        0.482        0.786  ...      22.0   \n",
       "3    2022    1610612755     113.0        0.441        0.909  ...      27.0   \n",
       "4    2022    1610612737     108.0        0.429        1.000  ...      22.0   \n",
       "\n",
       "   REB_home  TEAM_ID_away  PTS_away  FG_PCT_away  FT_PCT_away  FG3_PCT_away  \\\n",
       "0      46.0    1610612759     117.0        0.478        0.815         0.321   \n",
       "1      40.0    1610612764     112.0        0.561        0.765         0.333   \n",
       "2      37.0    1610612749     106.0        0.470        0.682         0.433   \n",
       "3      49.0    1610612765      93.0        0.392        0.735         0.261   \n",
       "4      47.0    1610612741     110.0        0.500        0.773         0.292   \n",
       "\n",
       "   AST_away  REB_away  HOME_TEAM_WINS  \n",
       "0      23.0      44.0               1  \n",
       "1      20.0      37.0               1  \n",
       "2      20.0      46.0               1  \n",
       "3      15.0      46.0               1  \n",
       "4      20.0      47.0               0  \n",
       "\n",
       "[5 rows x 21 columns]"
      ]
     },
     "execution_count": 2,
     "metadata": {},
     "output_type": "execute_result"
    }
   ],
   "source": [
    "gameData = pd.read_csv(\"/kaggle/input/nba-games/games_details.csv\")\n",
    "games = pd.read_csv(\"/kaggle/input/nba-games/games.csv\")\n",
    "players = pd.read_csv(\"/kaggle/input/nba-games/players.csv\")\n",
    "teams = pd.read_csv(\"/kaggle/input/nba-games/teams.csv\")\n",
    "rankings = pd.read_csv(\"/kaggle/input/nba-games/ranking.csv\")\n",
    "#initial dataframes for all .csv files\n",
    "#For now the only dataframe we will look into is games\n",
    "games.head()"
   ]
  },
  {
   "cell_type": "code",
   "execution_count": 3,
   "id": "f756b533",
   "metadata": {
    "execution": {
     "iopub.execute_input": "2024-02-22T00:50:48.625703Z",
     "iopub.status.busy": "2024-02-22T00:50:48.625064Z",
     "iopub.status.idle": "2024-02-22T00:50:48.631566Z",
     "shell.execute_reply": "2024-02-22T00:50:48.630476Z"
    },
    "papermill": {
     "duration": 0.016338,
     "end_time": "2024-02-22T00:50:48.633999",
     "exception": false,
     "start_time": "2024-02-22T00:50:48.617661",
     "status": "completed"
    },
    "tags": []
   },
   "outputs": [
    {
     "data": {
      "text/plain": [
       "(26651, 21)"
      ]
     },
     "execution_count": 3,
     "metadata": {},
     "output_type": "execute_result"
    }
   ],
   "source": [
    "games.shape"
   ]
  },
  {
   "cell_type": "markdown",
   "id": "918bf306",
   "metadata": {
    "papermill": {
     "duration": 0.00566,
     "end_time": "2024-02-22T00:50:48.645488",
     "exception": false,
     "start_time": "2024-02-22T00:50:48.639828",
     "status": "completed"
    },
    "tags": []
   },
   "source": [
    "# Home Team advantage\n",
    "\n",
    "Generally the team who is playing the home game is considered to have the advantage. We will do a small dive into this and see how true this claim is by looking at the data."
   ]
  },
  {
   "cell_type": "code",
   "execution_count": 4,
   "id": "ea516134",
   "metadata": {
    "execution": {
     "iopub.execute_input": "2024-02-22T00:50:48.658831Z",
     "iopub.status.busy": "2024-02-22T00:50:48.658397Z",
     "iopub.status.idle": "2024-02-22T00:50:49.066802Z",
     "shell.execute_reply": "2024-02-22T00:50:49.065150Z"
    },
    "papermill": {
     "duration": 0.419026,
     "end_time": "2024-02-22T00:50:49.070327",
     "exception": false,
     "start_time": "2024-02-22T00:50:48.651301",
     "status": "completed"
    },
    "tags": []
   },
   "outputs": [
    {
     "name": "stderr",
     "output_type": "stream",
     "text": [
      "/tmp/ipykernel_18/934583140.py:4: FutureWarning: When grouping with a length-1 list-like, you will need to pass a length-1 tuple to get_group in a future version of pandas. Pass `(name,)` instead of `name` to silence this warning.\n",
      "  home_wins = home_team_group.get_group(1)\n",
      "/tmp/ipykernel_18/934583140.py:5: FutureWarning: When grouping with a length-1 list-like, you will need to pass a length-1 tuple to get_group in a future version of pandas. Pass `(name,)` instead of `name` to silence this warning.\n",
      "  home_loses = home_team_group.get_group(0)\n"
     ]
    },
    {
     "name": "stdout",
     "output_type": "stream",
     "text": [
      "Home team win percentage: 58.70% \n",
      "Away team win percentage: 41.30%\n"
     ]
    },
    {
     "data": {
      "image/png": "[encoded data removed]",
      "text/plain": [
       "<Figure size 640x480 with 1 Axes>"
      ]
     },
     "metadata": {},
     "output_type": "display_data"
    }
   ],
   "source": [
    "import matplotlib.pyplot as plt\n",
    "\n",
    "home_team_group = games.groupby([\"HOME_TEAM_WINS\"])\n",
    "home_wins = home_team_group.get_group(1)\n",
    "home_loses = home_team_group.get_group(0)\n",
    "\n",
    "home_team_wins = home_wins[\"HOME_TEAM_WINS\"].value_counts()\n",
    "away_team_wins = home_loses[\"HOME_TEAM_WINS\"].value_counts()\n",
    "\n",
    "plt.bar(0.5, home_team_wins, width = .75,color = '#0077b6',label = 'Home Team Wins')\n",
    "plt.bar(1.25, away_team_wins, width = .75,color = '#fb8500',label = 'Away Team Wins')\n",
    "\n",
    "plt.ylabel('Number of Wins')\n",
    "plt.xticks(color = 'w')\n",
    "plt.title('Home wins vs Away wins')\n",
    "plt.legend()\n",
    "\n",
    "percentage_for_home = games['HOME_TEAM_WINS'].value_counts()/len(games) * 100\n",
    "print(f'Home team win percentage: {percentage_for_home[1]:.2f}% \\nAway team win percentage: {percentage_for_home[0]:.2f}%')"
   ]
  },
  {
   "cell_type": "markdown",
   "id": "3a000e1e",
   "metadata": {
    "papermill": {
     "duration": 0.007055,
     "end_time": "2024-02-22T00:50:49.085255",
     "exception": false,
     "start_time": "2024-02-22T00:50:49.078200",
     "status": "completed"
    },
    "tags": []
   },
   "source": [
    "# Home Game Results\n",
    "\n",
    "The data shows that home teams will win 58.7% of the time while the away teams will win 41.3% of the time. This does show some kind of relation to winning a game and playing at home court. However, there are a couple of factors that are not taken into account;\n",
    "\n",
    "\n",
    "1) The data does not represent a single team\n",
    "\n",
    "2) The results do not tell us why this appears to be the case\n",
    "\n",
    "3) There is no information on what factors are in play that result in these cases\n",
    "\n",
    "\n",
    "Though there certainly could be some factors that play into these results it does show a potential data point for the ML model that we will implement at a later time. For now we can follow our current investigation via home team wins vs away team wins by looking into the differences between average point differences."
   ]
  },
  {
   "cell_type": "code",
   "execution_count": 5,
   "id": "c210362e",
   "metadata": {
    "execution": {
     "iopub.execute_input": "2024-02-22T00:50:49.102257Z",
     "iopub.status.busy": "2024-02-22T00:50:49.100673Z",
     "iopub.status.idle": "2024-02-22T00:50:49.425251Z",
     "shell.execute_reply": "2024-02-22T00:50:49.424152Z"
    },
    "papermill": {
     "duration": 0.335797,
     "end_time": "2024-02-22T00:50:49.428019",
     "exception": false,
     "start_time": "2024-02-22T00:50:49.092222",
     "status": "completed"
    },
    "tags": []
   },
   "outputs": [
    {
     "name": "stdout",
     "output_type": "stream",
     "text": [
      "(15645, 21)\n"
     ]
    },
    {
     "data": {
      "text/plain": [
       "<matplotlib.legend.Legend at 0x7d0f74f00a90>"
      ]
     },
     "execution_count": 5,
     "metadata": {},
     "output_type": "execute_result"
    },
    {
     "data": {
      "image/png": "[encoded data removed]",
      "text/plain": [
       "<Figure size 640x480 with 1 Axes>"
      ]
     },
     "metadata": {},
     "output_type": "display_data"
    }
   ],
   "source": [
    "home_pts = home_wins[\"PTS_home\"].mean()\n",
    "away_pts = home_loses[\"PTS_away\"].mean()\n",
    "\n",
    "print(home_wins.shape)\n",
    "\n",
    "plt.bar(.25, home_pts, width = 0.01,color = '#0077b6',label = 'Home Team Wins')\n",
    "plt.bar(.26, away_pts, width = 0.01,color = '#fb8500',label = 'Away Team Wins')\n",
    "\n",
    "plt.ylabel('Mean points scored')\n",
    "plt.xticks(color = 'w')\n",
    "plt.title('Home points vs Away points')\n",
    "plt.legend()"
   ]
  },
  {
   "cell_type": "markdown",
   "id": "356dbb20",
   "metadata": {
    "papermill": {
     "duration": 0.007209,
     "end_time": "2024-02-22T00:50:49.442969",
     "exception": false,
     "start_time": "2024-02-22T00:50:49.435760",
     "status": "completed"
    },
    "tags": []
   },
   "source": [
    "# Mean points scored\n",
    "\n",
    "Though slight we can see that home teams every so slightly score more points on average. This data is most likely not usable for the ML model, not because it does not give insight, but because the difference between the two is not informative enough of what is occuring. Instead we should try and find the average score of individual teams and use this data as it would be more accurate to an individual teams standing. That having been said though only slight this data does match to some extent what we are looking for, though once again, there are issues with this as well.\n",
    "\n",
    "\n",
    "# Recomendation\n",
    "\n",
    "Though there is still a great deal of information to be gathered from the dataset I think this is a good place to start working on a simple ML model that will take in the team names and make a prediction based on number of games won alone, then work in new features from there. This is also a good place to work on building Elo rankings for simple predictions that do not involve ML which can take a considerable amount of time to make. This will also have the effect of potentially including the liklihood of winning a home game as well.\n",
    "\n",
    "For now we can start sorting and looking into the relevant data."
   ]
  },
  {
   "cell_type": "code",
   "execution_count": 6,
   "id": "b68b6363",
   "metadata": {
    "execution": {
     "iopub.execute_input": "2024-02-22T00:50:49.460028Z",
     "iopub.status.busy": "2024-02-22T00:50:49.459623Z",
     "iopub.status.idle": "2024-02-22T00:50:49.508288Z",
     "shell.execute_reply": "2024-02-22T00:50:49.507150Z"
    },
    "papermill": {
     "duration": 0.060224,
     "end_time": "2024-02-22T00:50:49.510904",
     "exception": false,
     "start_time": "2024-02-22T00:50:49.450680",
     "status": "completed"
    },
    "tags": []
   },
   "outputs": [
    {
     "data": {
      "text/plain": [
       "True"
      ]
     },
     "execution_count": 6,
     "metadata": {},
     "output_type": "execute_result"
    }
   ],
   "source": [
    "games = games.sort_values(by='GAME_DATE_EST').reset_index(drop = True)\n",
    "#sort the array by date in ascending order\n",
    "games.isnull().values.any()\n",
    "#check for any null/NaN/NaT values in the dataframe"
   ]
  },
  {
   "cell_type": "markdown",
   "id": "8efad25c",
   "metadata": {
    "papermill": {
     "duration": 0.007225,
     "end_time": "2024-02-22T00:50:49.525663",
     "exception": false,
     "start_time": "2024-02-22T00:50:49.518438",
     "status": "completed"
    },
    "tags": []
   },
   "source": [
    "As shown above we do have null values which are not useful to us. Therefore we will drop them."
   ]
  },
  {
   "cell_type": "code",
   "execution_count": 7,
   "id": "b95a8f7b",
   "metadata": {
    "execution": {
     "iopub.execute_input": "2024-02-22T00:50:49.542795Z",
     "iopub.status.busy": "2024-02-22T00:50:49.542420Z",
     "iopub.status.idle": "2024-02-22T00:50:49.588357Z",
     "shell.execute_reply": "2024-02-22T00:50:49.587137Z"
    },
    "papermill": {
     "duration": 0.058088,
     "end_time": "2024-02-22T00:50:49.591442",
     "exception": false,
     "start_time": "2024-02-22T00:50:49.533354",
     "status": "completed"
    },
    "tags": []
   },
   "outputs": [
    {
     "name": "stdout",
     "output_type": "stream",
     "text": [
      "False\n",
      "(26552, 21)\n"
     ]
    },
    {
     "data": {
      "text/html": [
       "<div>\n",
       "<style scoped>\n",
       "    .dataframe tbody tr th:only-of-type {\n",
       "        vertical-align: middle;\n",
       "    }\n",
       "\n",
       "    .dataframe tbody tr th {\n",
       "        vertical-align: top;\n",
       "    }\n",
       "\n",
       "    .dataframe thead th {\n",
       "        text-align: right;\n",
       "    }\n",
       "</style>\n",
       "<table border=\"1\" class=\"dataframe\">\n",
       "  <thead>\n",
       "    <tr style=\"text-align: right;\">\n",
       "      <th></th>\n",
       "      <th>GAME_DATE_EST</th>\n",
       "      <th>GAME_ID</th>\n",
       "      <th>GAME_STATUS_TEXT</th>\n",
       "      <th>HOME_TEAM_ID</th>\n",
       "      <th>VISITOR_TEAM_ID</th>\n",
       "      <th>SEASON</th>\n",
       "      <th>TEAM_ID_home</th>\n",
       "      <th>PTS_home</th>\n",
       "      <th>FG_PCT_home</th>\n",
       "      <th>FT_PCT_home</th>\n",
       "      <th>...</th>\n",
       "      <th>AST_home</th>\n",
       "      <th>REB_home</th>\n",
       "      <th>TEAM_ID_away</th>\n",
       "      <th>PTS_away</th>\n",
       "      <th>FG_PCT_away</th>\n",
       "      <th>FT_PCT_away</th>\n",
       "      <th>FG3_PCT_away</th>\n",
       "      <th>AST_away</th>\n",
       "      <th>REB_away</th>\n",
       "      <th>HOME_TEAM_WINS</th>\n",
       "    </tr>\n",
       "  </thead>\n",
       "  <tbody>\n",
       "    <tr>\n",
       "      <th>0</th>\n",
       "      <td>2003-10-05</td>\n",
       "      <td>10300001</td>\n",
       "      <td>Final</td>\n",
       "      <td>1610612762</td>\n",
       "      <td>1610612742</td>\n",
       "      <td>2003</td>\n",
       "      <td>1610612762</td>\n",
       "      <td>90.0</td>\n",
       "      <td>0.457</td>\n",
       "      <td>0.735</td>\n",
       "      <td>...</td>\n",
       "      <td>23.0</td>\n",
       "      <td>41.0</td>\n",
       "      <td>1610612742</td>\n",
       "      <td>85.0</td>\n",
       "      <td>0.447</td>\n",
       "      <td>0.500</td>\n",
       "      <td>0.250</td>\n",
       "      <td>20.0</td>\n",
       "      <td>38.0</td>\n",
       "      <td>1</td>\n",
       "    </tr>\n",
       "    <tr>\n",
       "      <th>1</th>\n",
       "      <td>2003-10-06</td>\n",
       "      <td>10300002</td>\n",
       "      <td>Final</td>\n",
       "      <td>1610612763</td>\n",
       "      <td>1610612749</td>\n",
       "      <td>2003</td>\n",
       "      <td>1610612763</td>\n",
       "      <td>105.0</td>\n",
       "      <td>0.494</td>\n",
       "      <td>0.618</td>\n",
       "      <td>...</td>\n",
       "      <td>25.0</td>\n",
       "      <td>48.0</td>\n",
       "      <td>1610612749</td>\n",
       "      <td>94.0</td>\n",
       "      <td>0.427</td>\n",
       "      <td>0.700</td>\n",
       "      <td>0.154</td>\n",
       "      <td>20.0</td>\n",
       "      <td>43.0</td>\n",
       "      <td>1</td>\n",
       "    </tr>\n",
       "    <tr>\n",
       "      <th>2</th>\n",
       "      <td>2003-10-07</td>\n",
       "      <td>10300010</td>\n",
       "      <td>Final</td>\n",
       "      <td>1610612764</td>\n",
       "      <td>1610612752</td>\n",
       "      <td>2003</td>\n",
       "      <td>1610612764</td>\n",
       "      <td>104.0</td>\n",
       "      <td>0.506</td>\n",
       "      <td>0.677</td>\n",
       "      <td>...</td>\n",
       "      <td>26.0</td>\n",
       "      <td>45.0</td>\n",
       "      <td>1610612752</td>\n",
       "      <td>86.0</td>\n",
       "      <td>0.380</td>\n",
       "      <td>0.852</td>\n",
       "      <td>0.188</td>\n",
       "      <td>19.0</td>\n",
       "      <td>37.0</td>\n",
       "      <td>1</td>\n",
       "    </tr>\n",
       "    <tr>\n",
       "      <th>3</th>\n",
       "      <td>2003-10-07</td>\n",
       "      <td>10300009</td>\n",
       "      <td>Final</td>\n",
       "      <td>1610612758</td>\n",
       "      <td>1610612746</td>\n",
       "      <td>2003</td>\n",
       "      <td>1610612758</td>\n",
       "      <td>101.0</td>\n",
       "      <td>0.467</td>\n",
       "      <td>0.871</td>\n",
       "      <td>...</td>\n",
       "      <td>19.0</td>\n",
       "      <td>39.0</td>\n",
       "      <td>1610612746</td>\n",
       "      <td>82.0</td>\n",
       "      <td>0.368</td>\n",
       "      <td>0.609</td>\n",
       "      <td>0.364</td>\n",
       "      <td>13.0</td>\n",
       "      <td>50.0</td>\n",
       "      <td>1</td>\n",
       "    </tr>\n",
       "    <tr>\n",
       "      <th>4</th>\n",
       "      <td>2003-10-07</td>\n",
       "      <td>10300005</td>\n",
       "      <td>Final</td>\n",
       "      <td>1610612757</td>\n",
       "      <td>1610612745</td>\n",
       "      <td>2003</td>\n",
       "      <td>1610612757</td>\n",
       "      <td>104.0</td>\n",
       "      <td>0.527</td>\n",
       "      <td>0.657</td>\n",
       "      <td>...</td>\n",
       "      <td>22.0</td>\n",
       "      <td>33.0</td>\n",
       "      <td>1610612745</td>\n",
       "      <td>80.0</td>\n",
       "      <td>0.470</td>\n",
       "      <td>0.667</td>\n",
       "      <td>0.333</td>\n",
       "      <td>10.0</td>\n",
       "      <td>37.0</td>\n",
       "      <td>1</td>\n",
       "    </tr>\n",
       "  </tbody>\n",
       "</table>\n",
       "<p>5 rows × 21 columns</p>\n",
       "</div>"
      ],
      "text/plain": [
       "  GAME_DATE_EST   GAME_ID GAME_STATUS_TEXT  HOME_TEAM_ID  VISITOR_TEAM_ID  \\\n",
       "0    2003-10-05  10300001            Final    1610612762       1610612742   \n",
       "1    2003-10-06  10300002            Final    1610612763       1610612749   \n",
       "2    2003-10-07  10300010            Final    1610612764       1610612752   \n",
       "3    2003-10-07  10300009            Final    1610612758       1610612746   \n",
       "4    2003-10-07  10300005            Final    1610612757       1610612745   \n",
       "\n",
       "   SEASON  TEAM_ID_home  PTS_home  FG_PCT_home  FT_PCT_home  ...  AST_home  \\\n",
       "0    2003    1610612762      90.0        0.457        0.735  ...      23.0   \n",
       "1    2003    1610612763     105.0        0.494        0.618  ...      25.0   \n",
       "2    2003    1610612764     104.0        0.506        0.677  ...      26.0   \n",
       "3    2003    1610612758     101.0        0.467        0.871  ...      19.0   \n",
       "4    2003    1610612757     104.0        0.527        0.657  ...      22.0   \n",
       "\n",
       "   REB_home  TEAM_ID_away  PTS_away  FG_PCT_away  FT_PCT_away  FG3_PCT_away  \\\n",
       "0      41.0    1610612742      85.0        0.447        0.500         0.250   \n",
       "1      48.0    1610612749      94.0        0.427        0.700         0.154   \n",
       "2      45.0    1610612752      86.0        0.380        0.852         0.188   \n",
       "3      39.0    1610612746      82.0        0.368        0.609         0.364   \n",
       "4      33.0    1610612745      80.0        0.470        0.667         0.333   \n",
       "\n",
       "   AST_away  REB_away  HOME_TEAM_WINS  \n",
       "0      20.0      38.0               1  \n",
       "1      20.0      43.0               1  \n",
       "2      19.0      37.0               1  \n",
       "3      13.0      50.0               1  \n",
       "4      10.0      37.0               1  \n",
       "\n",
       "[5 rows x 21 columns]"
      ]
     },
     "execution_count": 7,
     "metadata": {},
     "output_type": "execute_result"
    }
   ],
   "source": [
    "games = games.dropna()\n",
    "#drop all null/NaN/Nat values from the dataframe\n",
    "print(games.isnull().values.any())\n",
    "print(games.shape)\n",
    "#print the results to make sure we dropped the desired values\n",
    "games.head()\n",
    "#check the first few entries of the newly arranged dataframe"
   ]
  },
  {
   "cell_type": "markdown",
   "id": "8cf63d61",
   "metadata": {
    "papermill": {
     "duration": 0.007763,
     "end_time": "2024-02-22T00:50:49.607191",
     "exception": false,
     "start_time": "2024-02-22T00:50:49.599428",
     "status": "completed"
    },
    "tags": []
   },
   "source": [
    "Now that we have no NaN values in our dataset we can begin the process of determining the average points scored for all teams. This will involve a little data manipulation on our end, and we will need to create new data frames that are copies of the originals to preserve the integrity of the original files we will be using in the instance that we need that preserved data later on."
   ]
  }
 ],
 "metadata": {
  "kaggle": {
   "accelerator": "none",
   "dataSources": [
    {
     "datasetId": 458874,
     "sourceId": 4761991,
     "sourceType": "datasetVersion"
    }
   ],
   "dockerImageVersionId": 30646,
   "isGpuEnabled": false,
   "isInternetEnabled": false,
   "language": "python",
   "sourceType": "notebook"
  },
  "kernelspec": {
   "display_name": "Python 3",
   "language": "python",
   "name": "python3"
  },
  "language_info": {
   "codemirror_mode": {
    "name": "ipython",
    "version": 3
   },
   "file_extension": ".py",
   "mimetype": "text/x-python",
   "name": "python",
   "nbconvert_exporter": "python",
   "pygments_lexer": "ipython3",
   "version": "3.10.13"
  },
  "papermill": {
   "default_parameters": {},
   "duration": 11.485694,
   "end_time": "2024-02-22T00:50:50.137051",
   "environment_variables": {},
   "exception": null,
   "input_path": "__notebook__.ipynb",
   "output_path": "__notebook__.ipynb",
   "parameters": {},
   "start_time": "2024-02-22T00:50:38.651357",
   "version": "2.5.0"
  }
 },
 "nbformat": 4,
 "nbformat_minor": 5
}
